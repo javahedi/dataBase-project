{
 "cells": [
  {
   "cell_type": "code",
   "execution_count": 8,
   "metadata": {},
   "outputs": [
    {
     "name": "stdout",
     "output_type": "stream",
     "text": [
      "database connection was succesfull!!!\n"
     ]
    }
   ],
   "source": [
    "# run the Postgrs server\n",
    "import psycopg2\n",
    "# to return the Postgres table with their volumn title\n",
    "from psycopg2.extras import RealDictCursor \n",
    "import time\n",
    "import config\n",
    "\n",
    "\n",
    "\n",
    "while True:\n",
    "    try:\n",
    "        # Connect to your postgres DB\n",
    "        conn = psycopg2.connect(host =config.HOST, database=config.DATABASE, \n",
    "                                user =config.USER, password= config.PASSWORD,\n",
    "                                cursor_factory=RealDictCursor)\n",
    "\n",
    "                                #host = 'localhost', database='dataScience', \n",
    "                                #user ='postgres', password='Jimboo1155',\n",
    "                                #cursor_factory=RealDictCursor )\n",
    "        # Open a cursor to perform database operations\n",
    "        cursor = conn.cursor()\n",
    "        print('database connection was succesfull!!!')\n",
    "        break\n",
    "    except Exception as error:\n",
    "        print('database connection was failed!!!')\n",
    "        print('Erorr : ',  error)\n",
    "        time.sleep(2)"
   ]
  },
  {
   "cell_type": "code",
   "execution_count": 3,
   "metadata": {},
   "outputs": [],
   "source": [
    "cursor.execute(\"\"\" SELECT * FROM products\"\"\")\n",
    "# Retrieve query results\n",
    "posts = cursor.fetchall()"
   ]
  },
  {
   "cell_type": "code",
   "execution_count": 3,
   "metadata": {},
   "outputs": [],
   "source": [
    "import pandas as pd\n",
    "df = pd.DataFrame(posts)"
   ]
  },
  {
   "cell_type": "code",
   "execution_count": 4,
   "metadata": {},
   "outputs": [
    {
     "data": {
      "text/html": [
       "<div>\n",
       "<style scoped>\n",
       "    .dataframe tbody tr th:only-of-type {\n",
       "        vertical-align: middle;\n",
       "    }\n",
       "\n",
       "    .dataframe tbody tr th {\n",
       "        vertical-align: top;\n",
       "    }\n",
       "\n",
       "    .dataframe thead th {\n",
       "        text-align: right;\n",
       "    }\n",
       "</style>\n",
       "<table border=\"1\" class=\"dataframe\">\n",
       "  <thead>\n",
       "    <tr style=\"text-align: right;\">\n",
       "      <th></th>\n",
       "      <th>name</th>\n",
       "      <th>price</th>\n",
       "      <th>id</th>\n",
       "      <th>is_sale</th>\n",
       "      <th>inventory</th>\n",
       "      <th>created_at</th>\n",
       "    </tr>\n",
       "  </thead>\n",
       "  <tbody>\n",
       "    <tr>\n",
       "      <th>0</th>\n",
       "      <td>Tv</td>\n",
       "      <td>200</td>\n",
       "      <td>1</td>\n",
       "      <td>False</td>\n",
       "      <td>0</td>\n",
       "      <td>2022-09-07 13:37:44.332757+02:00</td>\n",
       "    </tr>\n",
       "    <tr>\n",
       "      <th>1</th>\n",
       "      <td>radio</td>\n",
       "      <td>45</td>\n",
       "      <td>4</td>\n",
       "      <td>False</td>\n",
       "      <td>0</td>\n",
       "      <td>2022-09-07 13:37:44.332757+02:00</td>\n",
       "    </tr>\n",
       "    <tr>\n",
       "      <th>2</th>\n",
       "      <td>headphone</td>\n",
       "      <td>40</td>\n",
       "      <td>5</td>\n",
       "      <td>True</td>\n",
       "      <td>0</td>\n",
       "      <td>2022-09-07 13:37:44.332757+02:00</td>\n",
       "    </tr>\n",
       "    <tr>\n",
       "      <th>3</th>\n",
       "      <td>keyword</td>\n",
       "      <td>50</td>\n",
       "      <td>7</td>\n",
       "      <td>True</td>\n",
       "      <td>33</td>\n",
       "      <td>2022-09-07 13:38:41.265149+02:00</td>\n",
       "    </tr>\n",
       "    <tr>\n",
       "      <th>4</th>\n",
       "      <td>ironing</td>\n",
       "      <td>24</td>\n",
       "      <td>8</td>\n",
       "      <td>False</td>\n",
       "      <td>6</td>\n",
       "      <td>2022-09-07 14:29:49.312453+02:00</td>\n",
       "    </tr>\n",
       "  </tbody>\n",
       "</table>\n",
       "</div>"
      ],
      "text/plain": [
       "        name  price  id  is_sale  inventory                       created_at\n",
       "0         Tv    200   1    False          0 2022-09-07 13:37:44.332757+02:00\n",
       "1      radio     45   4    False          0 2022-09-07 13:37:44.332757+02:00\n",
       "2  headphone     40   5     True          0 2022-09-07 13:37:44.332757+02:00\n",
       "3    keyword     50   7     True         33 2022-09-07 13:38:41.265149+02:00\n",
       "4    ironing     24   8    False          6 2022-09-07 14:29:49.312453+02:00"
      ]
     },
     "execution_count": 4,
     "metadata": {},
     "output_type": "execute_result"
    }
   ],
   "source": [
    "df.head()"
   ]
  },
  {
   "cell_type": "code",
   "execution_count": 6,
   "metadata": {},
   "outputs": [],
   "source": [
    "df.to_csv('products.csv', index=False, encoding='utf-8')"
   ]
  }
 ],
 "metadata": {
  "kernelspec": {
   "display_name": "Python 3.10.6 64-bit",
   "language": "python",
   "name": "python3"
  },
  "language_info": {
   "codemirror_mode": {
    "name": "ipython",
    "version": 3
   },
   "file_extension": ".py",
   "mimetype": "text/x-python",
   "name": "python",
   "nbconvert_exporter": "python",
   "pygments_lexer": "ipython3",
   "version": "3.10.6"
  },
  "orig_nbformat": 4,
  "vscode": {
   "interpreter": {
    "hash": "aee8b7b246df8f9039afb4144a1f6fd8d2ca17a180786b69acc140d282b71a49"
   }
  }
 },
 "nbformat": 4,
 "nbformat_minor": 2
}
